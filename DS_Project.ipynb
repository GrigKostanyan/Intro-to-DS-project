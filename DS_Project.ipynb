{
 "cells": [
  {
   "cell_type": "code",
   "execution_count": 78,
   "id": "dd98a526",
   "metadata": {},
   "outputs": [],
   "source": [
    "import pandas as pd\n",
    "import numpy as np\n",
    "from sklearn.model_selection import train_test_split "
   ]
  },
  {
   "cell_type": "code",
   "execution_count": 79,
   "id": "13308ae4",
   "metadata": {},
   "outputs": [],
   "source": [
    "data = pd.read_csv(\"data.csv\")\n",
    "target = \"winner\""
   ]
  },
  {
   "cell_type": "code",
   "execution_count": 80,
   "id": "bd618ee4",
   "metadata": {},
   "outputs": [],
   "source": [
    "data.drop(\"B_ID\", axis= 1, inplace= True)\n",
    "data.drop(\"B_HomeTown\", axis= 1, inplace= True)\n",
    "data.drop(\"B_Name\", axis= 1, inplace= True)\n",
    "data.drop(\"B_Location\", axis= 1, inplace= True)\n",
    "\n",
    "data.drop(\"R_ID\", axis= 1, inplace= True)\n",
    "data.drop(\"R_HomeTown\", axis= 1, inplace= True)\n",
    "data.drop(\"R_Name\", axis= 1, inplace= True)\n",
    "data.drop(\"R_Location\", axis= 1, inplace= True)\n",
    "\n",
    "data.drop([\"Event_ID\"], axis=1, inplace=True)\n",
    "data.drop([\"Fight_ID\"], axis=1, inplace=True)"
   ]
  },
  {
   "cell_type": "code",
   "execution_count": 81,
   "id": "78523323",
   "metadata": {},
   "outputs": [],
   "source": [
    "for column in data:\n",
    "    if(\"Round\" in column):\n",
    "        data[column].fillna(data[column].median())\n",
    "\n",
    "data[\"B_Height\"].fillna(data[\"B_Height\"].mean())\n",
    "data[\"B_Weight\"].fillna(data[\"B_Weight\"].mean())\n",
    "\n",
    "data[\"R_Height\"].fillna(data[\"R_Height\"].mean())\n",
    "data[\"R_Weight\"].fillna(data[\"R_Weight\"].mean())\n",
    "\n",
    "data = data.fillna(method='bfill')"
   ]
  },
  {
   "cell_type": "code",
   "execution_count": 82,
   "id": "61a7c494",
   "metadata": {},
   "outputs": [],
   "source": [
    "weightDf = data[[\"B_Weight\", \"R_Weight\"]]\n",
    "minWeight = weightDf.min().min()\n",
    "maxWeight = weightDf.max().max()\n",
    "bins = np.linspace(minWeight, maxWeight, num=5)\n",
    "data[\"B_Weight\"] = pd.cut(data[\"B_Weight\"], bins=bins)\n",
    "data[\"R_Weight\"] = pd.cut(data[\"R_Weight\"], bins=bins)"
   ]
  },
  {
   "cell_type": "code",
   "execution_count": 83,
   "id": "f39f0f2d",
   "metadata": {},
   "outputs": [],
   "source": [
    "percantage = 0.3\n",
    "categorical = data.select_dtypes(include=\"object\").columns\n",
    "for column in categorical:\n",
    "    if column == target: continue\n",
    "    values = data[column].value_counts().values\n",
    "    qtile = np.quantile(values, percantage)\n",
    "    grouped = data.groupby(column)[column].transform(\"size\")\n",
    "    data.loc[grouped <= qtile, column] = \"other\"\n",
    "    dummies =  pd.get_dummies(data[column])\n",
    "    data.drop(column, axis=1, inplace=True)\n",
    "    data = pd.concat([data, dummies], axis=1)"
   ]
  },
  {
   "cell_type": "code",
   "execution_count": 71,
   "id": "4aefacb3",
   "metadata": {},
   "outputs": [],
   "source": [
    "train, test = train_test_split(data, test_size=0.2)\n",
    "train.to_csv(\"train.csv\", index=False)\n",
    "test.to_csv(\"test.csv\", index=False)"
   ]
  }
 ],
 "metadata": {
  "kernelspec": {
   "display_name": "Python 3 (ipykernel)",
   "language": "python",
   "name": "python3"
  },
  "language_info": {
   "codemirror_mode": {
    "name": "ipython",
    "version": 3
   },
   "file_extension": ".py",
   "mimetype": "text/x-python",
   "name": "python",
   "nbconvert_exporter": "python",
   "pygments_lexer": "ipython3",
   "version": "3.9.7"
  }
 },
 "nbformat": 4,
 "nbformat_minor": 5
}
